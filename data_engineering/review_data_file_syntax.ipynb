{
 "cells": [
  {
   "cell_type": "code",
   "execution_count": 0,
   "metadata": {
    "application/vnd.databricks.v1+cell": {
     "cellMetadata": {
      "byteLimit": 2048000,
      "rowLimit": 10000
     },
     "inputWidgets": {},
     "nuid": "94e689ae-f382-4956-bc9b-28d2e26c4c51",
     "showTitle": false,
     "tableResultSettingsMap": {},
     "title": ""
    }
   },
   "outputs": [],
   "source": [
    "import boto3\n",
    "import os\n",
    "from pprint import pprint"
   ]
  },
  {
   "cell_type": "code",
   "execution_count": 0,
   "metadata": {
    "application/vnd.databricks.v1+cell": {
     "cellMetadata": {
      "byteLimit": 2048000,
      "rowLimit": 10000
     },
     "inputWidgets": {},
     "nuid": "aa33db6b-7df3-452a-9ad7-c12caf25f522",
     "showTitle": false,
     "tableResultSettingsMap": {},
     "title": ""
    }
   },
   "outputs": [],
   "source": [
    "\n",
    "# Configure S3 access\n",
    "s3_bucket = os.getenv('BUCKET_NAME')\n",
    "base_prefix = \"iot-sitewise/\"\n",
    "directories = [\"agg\", \"asset_metadata\", \"index\", \"raw\"]\n",
    "\n",
    "# Create S3 client using environment variables\n",
    "s3_client = boto3.client(\n",
    "    's3',\n",
    "    aws_access_key_id=os.getenv('AWS_ACCESS_KEY_ID'),\n",
    "    aws_secret_access_key=os.getenv('AWS_SECRET_ACCESS_KEY'),\n",
    "    region_name=os.getenv('AWS_REGION', 'us-east-1')\n",
    ")\n",
    "\n",
    "# Function to list sample paths from each directory\n",
    "def list_sample_paths(directory, max_samples=3):\n",
    "    print(f\"\\n===== SAMPLE PATHS FROM {directory.upper()} =====\")\n",
    "    \n",
    "    prefix = f\"{base_prefix}{directory}/\"\n",
    "    response = s3_client.list_objects_v2(\n",
    "        Bucket=s3_bucket,\n",
    "        Prefix=prefix,\n",
    "        MaxKeys=100  # Get enough to sample from\n",
    "    )\n",
    "    \n",
    "    # Get the first few files\n",
    "    if 'Contents' in response:\n",
    "        samples = []\n",
    "        dirs_seen = set()\n",
    "        \n",
    "        # Try to get samples from different subdirectories\n",
    "        for obj in response.get('Contents', []):\n",
    "            key = obj['Key']\n",
    "            # Get the first level subdirectory if any\n",
    "            parts = key[len(prefix):].split('/')\n",
    "            subdir = parts[0] if len(parts) > 1 else \"\"\n",
    "            \n",
    "            if subdir not in dirs_seen and len(samples) < max_samples:\n",
    "                samples.append(key)\n",
    "                dirs_seen.add(subdir)\n",
    "                \n",
    "        if not samples and response.get('Contents'):\n",
    "            # If we couldn't get subdirectory samples, just take the first few\n",
    "            samples = [obj['Key'] for obj in response.get('Contents', [])[:max_samples]]\n",
    "            \n",
    "        # Print the samples\n",
    "        for i, sample in enumerate(samples, 1):\n",
    "            print(f\"Sample {i}: {sample}\")\n",
    "    else:\n",
    "        print(f\"No files found in {directory}\")"
   ]
  },
  {
   "cell_type": "code",
   "execution_count": 0,
   "metadata": {
    "application/vnd.databricks.v1+cell": {
     "cellMetadata": {
      "byteLimit": 2048000,
      "rowLimit": 10000
     },
     "inputWidgets": {},
     "nuid": "074eb648-f8fd-480c-8844-0ff4909de350",
     "showTitle": false,
     "tableResultSettingsMap": {},
     "title": ""
    }
   },
   "outputs": [],
   "source": [
    " # List directory structure\n",
    "for directory in directories:\n",
    "    list_sample_paths(directory)\n",
    "\n",
    "# Additional: print hierarchy levels for better understanding\n",
    "print(\"\\n===== DIRECTORY STRUCTURE ANALYSIS =====\")\n",
    "for directory in directories:\n",
    "    print(f\"\\nAnalyzing {directory}...\")\n",
    "    prefix = f\"{base_prefix}{directory}/\"\n",
    "    response = s3_client.list_objects_v2(\n",
    "        Bucket=s3_bucket,\n",
    "        Prefix=prefix,\n",
    "        Delimiter='/'\n",
    "    )\n",
    "    \n",
    "    # Print common prefixes (subdirectories)\n",
    "    if 'CommonPrefixes' in response:\n",
    "        print(f\"First level subdirectories in {directory}:\")\n",
    "        for common_prefix in response.get('CommonPrefixes', []):\n",
    "            subdir = common_prefix['Prefix']\n",
    "            print(f\"  - {subdir}\")\n",
    "            \n",
    "            # Check next level (if needed)\n",
    "            sub_response = s3_client.list_objects_v2(\n",
    "                Bucket=s3_bucket,\n",
    "                Prefix=subdir,\n",
    "                Delimiter='/',\n",
    "                MaxKeys=5\n",
    "            )\n",
    "            if 'CommonPrefixes' in sub_response:\n",
    "                print(f\"    Second level (showing up to 5):\")\n",
    "                for sub_prefix in sub_response.get('CommonPrefixes', [])[:5]:\n",
    "                    print(f\"    - {sub_prefix['Prefix']}\")\n",
    "    else:\n",
    "        # If no subdirectories, list a few files directly\n",
    "        if 'Contents' in response:\n",
    "            print(f\"Files directly in {directory} (showing up to 5):\")\n",
    "            for obj in response.get('Contents', [])[:5]:\n",
    "                print(f\"  - {obj['Key']}\")\n",
    "        else:\n",
    "            print(f\"No files found in {directory}\")"
   ]
  }
 ],
 "metadata": {
  "application/vnd.databricks.v1+notebook": {
   "computePreferences": null,
   "dashboards": [],
   "environmentMetadata": {
    "base_environment": "",
    "environment_version": "2"
   },
   "inputWidgetPreferences": null,
   "language": "python",
   "notebookMetadata": {
    "pythonIndentUnit": 4
   },
   "notebookName": "review_data_file_syntax",
   "widgets": {}
  },
  "language_info": {
   "name": "python"
  }
 },
 "nbformat": 4,
 "nbformat_minor": 0
}
